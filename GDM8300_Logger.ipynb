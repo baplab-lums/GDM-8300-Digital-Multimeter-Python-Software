# GDM-8300 Logger Notebook

Replace this with your working code.